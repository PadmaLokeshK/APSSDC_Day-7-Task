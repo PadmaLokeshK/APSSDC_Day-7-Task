{
 "cells": [
  {
   "cell_type": "markdown",
   "metadata": {},
   "source": [
    "# Task 1: Write a pattern to display 4 digit numbers from list1"
   ]
  },
  {
   "cell_type": "code",
   "execution_count": 1,
   "metadata": {},
   "outputs": [
    {
     "name": "stdout",
     "output_type": "stream",
     "text": [
      "['5841', '1234', '8797']\n"
     ]
    }
   ],
   "source": [
    "import re\n",
    "list1 = [5841, 987654321, 453267, 1234, 675, 8797]\n",
    "# converting given integers to strings\n",
    "list1 = list(map(str,list1))\n",
    "#pattern for finding 4 digit numbers in given list\n",
    "print([i for i in list1 if re.findall('^\\d{4}$',i)])"
   ]
  },
  {
   "cell_type": "markdown",
   "metadata": {},
   "source": [
    "# Task 2: Validate a phone number using patterns. Try to do this task using below pattern or your own pattern"
   ]
  },
  {
   "cell_type": "code",
   "execution_count": 2,
   "metadata": {},
   "outputs": [
    {
     "name": "stdout",
     "output_type": "stream",
     "text": [
      "['9876543210', '8123456789', '7890123456']\n"
     ]
    }
   ],
   "source": [
    "ph_list = [9876543210, 8123456789, 7890123456, 789654, 1234567890]\n",
    "ph_list = list(map(str,ph_list))\n",
    "print([i for i in ph_list if re.findall('^[6-9]{1}[0-9]{9}', i)])"
   ]
  },
  {
   "cell_type": "code",
   "execution_count": null,
   "metadata": {},
   "outputs": [],
   "source": []
  }
 ],
 "metadata": {
  "kernelspec": {
   "display_name": "Python 3",
   "language": "python",
   "name": "python3"
  },
  "language_info": {
   "codemirror_mode": {
    "name": "ipython",
    "version": 3
   },
   "file_extension": ".py",
   "mimetype": "text/x-python",
   "name": "python",
   "nbconvert_exporter": "python",
   "pygments_lexer": "ipython3",
   "version": "3.8.5"
  }
 },
 "nbformat": 4,
 "nbformat_minor": 4
}
